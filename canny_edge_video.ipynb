{
  "nbformat": 4,
  "nbformat_minor": 0,
  "metadata": {
    "colab": {
      "name": "canny_edge_video.ipynb",
      "provenance": [],
      "collapsed_sections": []
    },
    "kernelspec": {
      "display_name": "Python 3",
      "language": "python",
      "name": "python3"
    },
    "language_info": {
      "codemirror_mode": {
        "name": "ipython",
        "version": 3
      },
      "file_extension": ".py",
      "mimetype": "text/x-python",
      "name": "python",
      "nbconvert_exporter": "python",
      "pygments_lexer": "ipython3",
      "version": "3.7.6"
    }
  },
  "cells": [
    {
      "cell_type": "code",
      "metadata": {
        "id": "klXUksmHqn8N"
      },
      "source": [
        "#canny edge detection on a video \n",
        "import cv2\n",
        "import numpy as np\n",
        "from google.colab.patches import cv2_imshow\n",
        "cap = cv2.VideoCapture(\"Images/video1.mp4\")\n",
        "\n",
        "while(1):\n",
        "\n",
        "    _, frame = cap.read()\n",
        "    hsv = cv2.cvtColor(frame, cv2.COLOR_BGR2HSV)\n",
        "    \n",
        "    lower_red = np.array([30,150,50])\n",
        "    upper_red = np.array([255,255,180])\n",
        "    \n",
        "    mask = cv2.inRange(hsv, lower_red, upper_red)\n",
        "    res = cv2.bitwise_and(frame,frame, mask= mask)\n",
        "\n",
        "    cv2_imshow(frame)\n",
        "    edges = cv2.Canny(frame,100,200)\n",
        "    cv2_imshow(edges)\n",
        "\n",
        "    k = cv2.waitKey(5) & 0xFF\n",
        "    if k == 27:\n",
        "        break"
      ],
      "execution_count": null,
      "outputs": []
    },
    {
      "cell_type": "code",
      "metadata": {
        "id": "Zx7-Oruyqn8X"
      },
      "source": [
        ""
      ],
      "execution_count": null,
      "outputs": []
    },
    {
      "cell_type": "code",
      "metadata": {
        "id": "NfSItwvWqn8a"
      },
      "source": [
        ""
      ],
      "execution_count": null,
      "outputs": []
    }
  ]
}